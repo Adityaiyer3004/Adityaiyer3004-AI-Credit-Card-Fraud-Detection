{
 "cells": [
  {
   "cell_type": "markdown",
   "id": "ed2389f0-06c3-4515-9ef3-baab77629060",
   "metadata": {},
   "source": [
    "# 📌 Credit Card Fraud Detection - Model Evaluation & Fraud Analysis\n",
    "\n",
    "Fraud detection models require rigorous evaluation to ensure they generalize well.  \n",
    "This notebook focuses on **loading the trained model, evaluating performance, analyzing false positives & negatives, and extracting flagged fraud cases**.\n",
    "\n",
    "---\n",
    "\n",
    "## 🔹 Workflow Overview  \n",
    "\n",
    "#### **1. Load the Trained Model**   \n",
    "- Load the saved `.h5` model.\n",
    "- Load preprocessed test datasets (`X_test`, `y_test`).\n",
    "\n",
    "####  **2. Evaluate Model Performance**   \n",
    "- Generate **loss curves** to assess model stability.  \n",
    "- Analyze **precision, recall, and F1-score** for fraud detection.\n",
    "\n",
    "####  **3. Generate Confusion Matrix**   \n",
    "- Evaluate the **distribution of true vs. false positives/negatives**.  \n",
    "- Identify areas of improvement.\n",
    "\n",
    "#### **4. Extract and Analyze Fraudulent Transactions**   \n",
    "- Extract transactions **flagged as fraud** by the model.\n",
    "- Analyze transaction characteristics and compare them with non-fraudulent cases.\n"
   ]
  },
  {
   "cell_type": "markdown",
   "id": "c9e6da3b-ff51-4b47-a07f-09c75e3bb46c",
   "metadata": {},
   "source": [
    "## **1. Load Required Libraries**  \n",
    "\n",
    "we need to import essential libraries for data processing, visualization, and model evaluation.\n",
    "\n",
    "- `numpy` and `pandas` for efficient data manipulation.\n",
    "- `seaborn` and `matplotlib` for exploratory data analysis (EDA).\n",
    "- `scikit-learn` for data preprocessing, model evaluation, and performance metrics.\n",
    "- `tensorflow` and `keras` for deep learning implementation.\n",
    "\n"
   ]
  },
  {
   "cell_type": "code",
   "execution_count": 5,
   "id": "a919d4a9-6fc8-4306-98aa-3c6deccc31c5",
   "metadata": {},
   "outputs": [],
   "source": [
    "# Load Required Libraries\n",
    "import numpy as np\n",
    "import pandas as pd\n",
    "import matplotlib.pyplot as plt\n",
    "import seaborn as sns\n",
    "\n",
    "from sklearn.metrics import accuracy_score, precision_score, recall_score, f1_score, confusion_matrix\n",
    "\n",
    "import tensorflow as tf\n",
    "from tensorflow import keras\n",
    "import tensorflow.keras.backend as K\n",
    "\n"
   ]
  },
  {
   "cell_type": "markdown",
   "id": "796c9948-f75d-41b0-ae58-e6ba91d69f48",
   "metadata": {},
   "source": [
    "## **2. Load the Trained Model**   \n",
    "\n",
    "The trained **Neural Network model** is loaded from the `.h5` file saved in the previous notebook.  \n",
    "Since we used **Focal Loss**, a custom loss function, we must explicitly pass it when loading the model.  \n",
    "\n",
    "### ✅ **Key Fix**\n",
    "- TensorFlow does not recognize custom loss functions by default.\n",
    "- We redefine `focal_loss` and pass it under `custom_objects` while loading the model.\n",
    "\n",
    "### ✅ **Steps Performed**\n",
    "1. Load **preprocessed test data (`X_test`, `y_test`)**.\n",
    "2. Load **saved trained model (`.h5`)** using `keras.models.load_model()`.\n",
    "3. Register **Focal Loss** so the model is loaded correctly.\n",
    "4. Print the **model summary** to verify the architecture.\n"
   ]
  },
  {
   "cell_type": "code",
   "execution_count": 3,
   "id": "d529f03e-2a5d-4437-bcf3-54aa88a49116",
   "metadata": {},
   "outputs": [
    {
     "name": "stderr",
     "output_type": "stream",
     "text": [
      "WARNING:absl:Compiled the loaded model, but the compiled metrics have yet to be built. `model.compile_metrics` will be empty until you train or evaluate the model.\n"
     ]
    },
    {
     "data": {
      "text/html": [
       "<pre style=\"white-space:pre;overflow-x:auto;line-height:normal;font-family:Menlo,'DejaVu Sans Mono',consolas,'Courier New',monospace\"><span style=\"font-weight: bold\">Model: \"sequential_2\"</span>\n",
       "</pre>\n"
      ],
      "text/plain": [
       "\u001b[1mModel: \"sequential_2\"\u001b[0m\n"
      ]
     },
     "metadata": {},
     "output_type": "display_data"
    },
    {
     "data": {
      "text/html": [
       "<pre style=\"white-space:pre;overflow-x:auto;line-height:normal;font-family:Menlo,'DejaVu Sans Mono',consolas,'Courier New',monospace\">┏━━━━━━━━━━━━━━━━━━━━━━━━━━━━━━━━━┳━━━━━━━━━━━━━━━━━━━━━━━━┳━━━━━━━━━━━━━━━┓\n",
       "┃<span style=\"font-weight: bold\"> Layer (type)                    </span>┃<span style=\"font-weight: bold\"> Output Shape           </span>┃<span style=\"font-weight: bold\">       Param # </span>┃\n",
       "┡━━━━━━━━━━━━━━━━━━━━━━━━━━━━━━━━━╇━━━━━━━━━━━━━━━━━━━━━━━━╇━━━━━━━━━━━━━━━┩\n",
       "│ dense_8 (<span style=\"color: #0087ff; text-decoration-color: #0087ff\">Dense</span>)                 │ (<span style=\"color: #00d7ff; text-decoration-color: #00d7ff\">None</span>, <span style=\"color: #00af00; text-decoration-color: #00af00\">256</span>)            │         <span style=\"color: #00af00; text-decoration-color: #00af00\">7,936</span> │\n",
       "├─────────────────────────────────┼────────────────────────┼───────────────┤\n",
       "│ batch_normalization_6           │ (<span style=\"color: #00d7ff; text-decoration-color: #00d7ff\">None</span>, <span style=\"color: #00af00; text-decoration-color: #00af00\">256</span>)            │         <span style=\"color: #00af00; text-decoration-color: #00af00\">1,024</span> │\n",
       "│ (<span style=\"color: #0087ff; text-decoration-color: #0087ff\">BatchNormalization</span>)            │                        │               │\n",
       "├─────────────────────────────────┼────────────────────────┼───────────────┤\n",
       "│ dropout_6 (<span style=\"color: #0087ff; text-decoration-color: #0087ff\">Dropout</span>)             │ (<span style=\"color: #00d7ff; text-decoration-color: #00d7ff\">None</span>, <span style=\"color: #00af00; text-decoration-color: #00af00\">256</span>)            │             <span style=\"color: #00af00; text-decoration-color: #00af00\">0</span> │\n",
       "├─────────────────────────────────┼────────────────────────┼───────────────┤\n",
       "│ dense_9 (<span style=\"color: #0087ff; text-decoration-color: #0087ff\">Dense</span>)                 │ (<span style=\"color: #00d7ff; text-decoration-color: #00d7ff\">None</span>, <span style=\"color: #00af00; text-decoration-color: #00af00\">128</span>)            │        <span style=\"color: #00af00; text-decoration-color: #00af00\">32,896</span> │\n",
       "├─────────────────────────────────┼────────────────────────┼───────────────┤\n",
       "│ batch_normalization_7           │ (<span style=\"color: #00d7ff; text-decoration-color: #00d7ff\">None</span>, <span style=\"color: #00af00; text-decoration-color: #00af00\">128</span>)            │           <span style=\"color: #00af00; text-decoration-color: #00af00\">512</span> │\n",
       "│ (<span style=\"color: #0087ff; text-decoration-color: #0087ff\">BatchNormalization</span>)            │                        │               │\n",
       "├─────────────────────────────────┼────────────────────────┼───────────────┤\n",
       "│ dropout_7 (<span style=\"color: #0087ff; text-decoration-color: #0087ff\">Dropout</span>)             │ (<span style=\"color: #00d7ff; text-decoration-color: #00d7ff\">None</span>, <span style=\"color: #00af00; text-decoration-color: #00af00\">128</span>)            │             <span style=\"color: #00af00; text-decoration-color: #00af00\">0</span> │\n",
       "├─────────────────────────────────┼────────────────────────┼───────────────┤\n",
       "│ dense_10 (<span style=\"color: #0087ff; text-decoration-color: #0087ff\">Dense</span>)                │ (<span style=\"color: #00d7ff; text-decoration-color: #00d7ff\">None</span>, <span style=\"color: #00af00; text-decoration-color: #00af00\">64</span>)             │         <span style=\"color: #00af00; text-decoration-color: #00af00\">8,256</span> │\n",
       "├─────────────────────────────────┼────────────────────────┼───────────────┤\n",
       "│ batch_normalization_8           │ (<span style=\"color: #00d7ff; text-decoration-color: #00d7ff\">None</span>, <span style=\"color: #00af00; text-decoration-color: #00af00\">64</span>)             │           <span style=\"color: #00af00; text-decoration-color: #00af00\">256</span> │\n",
       "│ (<span style=\"color: #0087ff; text-decoration-color: #0087ff\">BatchNormalization</span>)            │                        │               │\n",
       "├─────────────────────────────────┼────────────────────────┼───────────────┤\n",
       "│ dropout_8 (<span style=\"color: #0087ff; text-decoration-color: #0087ff\">Dropout</span>)             │ (<span style=\"color: #00d7ff; text-decoration-color: #00d7ff\">None</span>, <span style=\"color: #00af00; text-decoration-color: #00af00\">64</span>)             │             <span style=\"color: #00af00; text-decoration-color: #00af00\">0</span> │\n",
       "├─────────────────────────────────┼────────────────────────┼───────────────┤\n",
       "│ dense_11 (<span style=\"color: #0087ff; text-decoration-color: #0087ff\">Dense</span>)                │ (<span style=\"color: #00d7ff; text-decoration-color: #00d7ff\">None</span>, <span style=\"color: #00af00; text-decoration-color: #00af00\">1</span>)              │            <span style=\"color: #00af00; text-decoration-color: #00af00\">65</span> │\n",
       "└─────────────────────────────────┴────────────────────────┴───────────────┘\n",
       "</pre>\n"
      ],
      "text/plain": [
       "┏━━━━━━━━━━━━━━━━━━━━━━━━━━━━━━━━━┳━━━━━━━━━━━━━━━━━━━━━━━━┳━━━━━━━━━━━━━━━┓\n",
       "┃\u001b[1m \u001b[0m\u001b[1mLayer (type)                   \u001b[0m\u001b[1m \u001b[0m┃\u001b[1m \u001b[0m\u001b[1mOutput Shape          \u001b[0m\u001b[1m \u001b[0m┃\u001b[1m \u001b[0m\u001b[1m      Param #\u001b[0m\u001b[1m \u001b[0m┃\n",
       "┡━━━━━━━━━━━━━━━━━━━━━━━━━━━━━━━━━╇━━━━━━━━━━━━━━━━━━━━━━━━╇━━━━━━━━━━━━━━━┩\n",
       "│ dense_8 (\u001b[38;5;33mDense\u001b[0m)                 │ (\u001b[38;5;45mNone\u001b[0m, \u001b[38;5;34m256\u001b[0m)            │         \u001b[38;5;34m7,936\u001b[0m │\n",
       "├─────────────────────────────────┼────────────────────────┼───────────────┤\n",
       "│ batch_normalization_6           │ (\u001b[38;5;45mNone\u001b[0m, \u001b[38;5;34m256\u001b[0m)            │         \u001b[38;5;34m1,024\u001b[0m │\n",
       "│ (\u001b[38;5;33mBatchNormalization\u001b[0m)            │                        │               │\n",
       "├─────────────────────────────────┼────────────────────────┼───────────────┤\n",
       "│ dropout_6 (\u001b[38;5;33mDropout\u001b[0m)             │ (\u001b[38;5;45mNone\u001b[0m, \u001b[38;5;34m256\u001b[0m)            │             \u001b[38;5;34m0\u001b[0m │\n",
       "├─────────────────────────────────┼────────────────────────┼───────────────┤\n",
       "│ dense_9 (\u001b[38;5;33mDense\u001b[0m)                 │ (\u001b[38;5;45mNone\u001b[0m, \u001b[38;5;34m128\u001b[0m)            │        \u001b[38;5;34m32,896\u001b[0m │\n",
       "├─────────────────────────────────┼────────────────────────┼───────────────┤\n",
       "│ batch_normalization_7           │ (\u001b[38;5;45mNone\u001b[0m, \u001b[38;5;34m128\u001b[0m)            │           \u001b[38;5;34m512\u001b[0m │\n",
       "│ (\u001b[38;5;33mBatchNormalization\u001b[0m)            │                        │               │\n",
       "├─────────────────────────────────┼────────────────────────┼───────────────┤\n",
       "│ dropout_7 (\u001b[38;5;33mDropout\u001b[0m)             │ (\u001b[38;5;45mNone\u001b[0m, \u001b[38;5;34m128\u001b[0m)            │             \u001b[38;5;34m0\u001b[0m │\n",
       "├─────────────────────────────────┼────────────────────────┼───────────────┤\n",
       "│ dense_10 (\u001b[38;5;33mDense\u001b[0m)                │ (\u001b[38;5;45mNone\u001b[0m, \u001b[38;5;34m64\u001b[0m)             │         \u001b[38;5;34m8,256\u001b[0m │\n",
       "├─────────────────────────────────┼────────────────────────┼───────────────┤\n",
       "│ batch_normalization_8           │ (\u001b[38;5;45mNone\u001b[0m, \u001b[38;5;34m64\u001b[0m)             │           \u001b[38;5;34m256\u001b[0m │\n",
       "│ (\u001b[38;5;33mBatchNormalization\u001b[0m)            │                        │               │\n",
       "├─────────────────────────────────┼────────────────────────┼───────────────┤\n",
       "│ dropout_8 (\u001b[38;5;33mDropout\u001b[0m)             │ (\u001b[38;5;45mNone\u001b[0m, \u001b[38;5;34m64\u001b[0m)             │             \u001b[38;5;34m0\u001b[0m │\n",
       "├─────────────────────────────────┼────────────────────────┼───────────────┤\n",
       "│ dense_11 (\u001b[38;5;33mDense\u001b[0m)                │ (\u001b[38;5;45mNone\u001b[0m, \u001b[38;5;34m1\u001b[0m)              │            \u001b[38;5;34m65\u001b[0m │\n",
       "└─────────────────────────────────┴────────────────────────┴───────────────┘\n"
      ]
     },
     "metadata": {},
     "output_type": "display_data"
    },
    {
     "data": {
      "text/html": [
       "<pre style=\"white-space:pre;overflow-x:auto;line-height:normal;font-family:Menlo,'DejaVu Sans Mono',consolas,'Courier New',monospace\"><span style=\"font-weight: bold\"> Total params: </span><span style=\"color: #00af00; text-decoration-color: #00af00\">50,947</span> (199.02 KB)\n",
       "</pre>\n"
      ],
      "text/plain": [
       "\u001b[1m Total params: \u001b[0m\u001b[38;5;34m50,947\u001b[0m (199.02 KB)\n"
      ]
     },
     "metadata": {},
     "output_type": "display_data"
    },
    {
     "data": {
      "text/html": [
       "<pre style=\"white-space:pre;overflow-x:auto;line-height:normal;font-family:Menlo,'DejaVu Sans Mono',consolas,'Courier New',monospace\"><span style=\"font-weight: bold\"> Trainable params: </span><span style=\"color: #00af00; text-decoration-color: #00af00\">50,049</span> (195.50 KB)\n",
       "</pre>\n"
      ],
      "text/plain": [
       "\u001b[1m Trainable params: \u001b[0m\u001b[38;5;34m50,049\u001b[0m (195.50 KB)\n"
      ]
     },
     "metadata": {},
     "output_type": "display_data"
    },
    {
     "data": {
      "text/html": [
       "<pre style=\"white-space:pre;overflow-x:auto;line-height:normal;font-family:Menlo,'DejaVu Sans Mono',consolas,'Courier New',monospace\"><span style=\"font-weight: bold\"> Non-trainable params: </span><span style=\"color: #00af00; text-decoration-color: #00af00\">896</span> (3.50 KB)\n",
       "</pre>\n"
      ],
      "text/plain": [
       "\u001b[1m Non-trainable params: \u001b[0m\u001b[38;5;34m896\u001b[0m (3.50 KB)\n"
      ]
     },
     "metadata": {},
     "output_type": "display_data"
    },
    {
     "data": {
      "text/html": [
       "<pre style=\"white-space:pre;overflow-x:auto;line-height:normal;font-family:Menlo,'DejaVu Sans Mono',consolas,'Courier New',monospace\"><span style=\"font-weight: bold\"> Optimizer params: </span><span style=\"color: #00af00; text-decoration-color: #00af00\">2</span> (12.00 B)\n",
       "</pre>\n"
      ],
      "text/plain": [
       "\u001b[1m Optimizer params: \u001b[0m\u001b[38;5;34m2\u001b[0m (12.00 B)\n"
      ]
     },
     "metadata": {},
     "output_type": "display_data"
    },
    {
     "name": "stdout",
     "output_type": "stream",
     "text": [
      "✅ Model loaded successfully with Focal Loss!\n"
     ]
    }
   ],
   "source": [
    "# Define Custom Focal Loss Again (MUST be passed when loading the model)\n",
    "def focal_loss(gamma=2.0, alpha=0.25):\n",
    "    def focal_loss_fixed(y_true, y_pred):\n",
    "        y_true = tf.cast(y_true, tf.float32)\n",
    "        epsilon = 1e-7\n",
    "        y_pred = tf.clip_by_value(y_pred, epsilon, 1.0 - epsilon)\n",
    "        \n",
    "        cross_entropy = -y_true * K.log(y_pred) - (1.0 - y_true) * K.log(1.0 - y_pred)\n",
    "        weight = alpha * y_true * tf.pow((1.0 - y_pred), gamma) + \\\n",
    "                 (1.0 - alpha) * (1.0 - y_true) * tf.pow(y_pred, gamma)\n",
    "        \n",
    "        loss = weight * cross_entropy\n",
    "        return tf.reduce_mean(loss)\n",
    "    \n",
    "    return focal_loss_fixed\n",
    "\n",
    "# Define Paths\n",
    "model_path = \"/Users/adityaiyer/Desktop/Credit-Card-Fraud-Detection/models/fraud_model.h5\"\n",
    "data_path = \"/Users/adityaiyer/Desktop/Credit-Card-Fraud-Detection/data/processed/\"\n",
    "\n",
    "# Load Preprocessed Test Data\n",
    "X_test = np.load(data_path + \"X_test.npy\")\n",
    "y_test = np.load(data_path + \"y_test.npy\")\n",
    "\n",
    "# Load Trained Model with Custom Loss\n",
    "model = keras.models.load_model(\n",
    "    model_path,\n",
    "    custom_objects={\"focal_loss_fixed\": focal_loss(gamma=2.0, alpha=0.25)}\n",
    ")\n",
    "\n",
    "\n",
    "model.summary()\n",
    "\n",
    "print(\"✅ Model loaded successfully with Focal Loss!\")\n"
   ]
  },
  {
   "cell_type": "markdown",
   "id": "de534395-022e-41ae-b3fd-9488f6d0ecb2",
   "metadata": {},
   "source": [
    "## **3. Model Evaluation**  \n",
    "\n",
    "After loading the trained model, we evaluate its performance on the **test set (`X_test`, `y_test`)**.  \n",
    "Since fraud detection is an **imbalanced classification problem**, relying on accuracy alone is insufficient.  \n",
    "Instead, we use multiple evaluation metrics to get a clearer picture of the model's effectiveness.\n",
    "\n",
    "---\n",
    "\n",
    "### ✅ **Metrics Used**  \n",
    "\n",
    "1. **Accuracy**  \n",
    "   - Measures overall correctness of the model.  \n",
    "   - May be misleading in imbalanced datasets.\n",
    "\n",
    "2. **Precision**  \n",
    "   - How many predicted fraud cases were actually fraud?  \n",
    "   - Higher precision reduces false positives.  \n",
    "\n",
    "3. **Recall**  \n",
    "   - How many actual fraud cases were correctly detected?  \n",
    "   - Higher recall reduces false negatives.\n",
    "\n",
    "4. **F1 Score**  \n",
    "   - Balances **Precision** and **Recall**, making it a reliable metric for imbalanced data.\n",
    "\n",
    "---\n",
    "\n",
    "### 📊 **Confusion Matrix Visualization**  \n",
    "We also **visualize the Confusion Matrix** to analyze:  \n",
    "- **False Positives (FP)** → Normal transactions wrongly flagged as fraud.  \n",
    "- **False Negatives (FN)** → Fraudulent transactions mistakenly classified as normal.  \n",
    "\n",
    "A **well-performing model** should have:\n",
    "✔ **High true positive (TP) rate** for fraud cases.  \n",
    "✔ **Low false positive (FP) and false negative (FN) rates**.  \n",
    "\n",
    "---\n"
   ]
  },
  {
   "cell_type": "code",
   "execution_count": 10,
   "id": "5cfcfc97-a7da-43a3-834d-07e214ab99eb",
   "metadata": {},
   "outputs": [
    {
     "name": "stdout",
     "output_type": "stream",
     "text": [
      "\u001b[1m2671/2671\u001b[0m \u001b[32m━━━━━━━━━━━━━━━━━━━━\u001b[0m\u001b[37m\u001b[0m \u001b[1m1s\u001b[0m 283us/step\n",
      "\n",
      "=== Model Evaluation Metrics ===\n",
      "🔹 Accuracy:  0.9990\n",
      "🔹 Precision: 0.9275\n",
      "🔹 Recall:    0.4324\n",
      "🔹 F1 Score:  0.5899\n"
     ]
    },
    {
     "data": {
      "image/png": "[encoded data removed]",
      "text/plain": [
       "<Figure size 600x500 with 2 Axes>"
      ]
     },
     "metadata": {},
     "output_type": "display_data"
    },
    {
     "name": "stdout",
     "output_type": "stream",
     "text": [
      "✅ Confusion Matrix saved successfully!\n"
     ]
    }
   ],
   "source": [
    "\n",
    "# Make Predictions\n",
    "y_test_pred_probs = model.predict(X_test).ravel()\n",
    "\n",
    "# Convert Probabilities to Binary Predictions\n",
    "threshold = 0.5  # Standard threshold for classification\n",
    "y_test_pred = (y_test_pred_probs >= threshold).astype(int)\n",
    "\n",
    "# Compute Metrics\n",
    "acc = accuracy_score(y_test, y_test_pred)\n",
    "prec = precision_score(y_test, y_test_pred)\n",
    "rec = recall_score(y_test, y_test_pred)\n",
    "f1 = f1_score(y_test, y_test_pred)\n",
    "\n",
    "# Performance Metrics\n",
    "print(\"\\n=== Model Evaluation Metrics ===\")\n",
    "print(f\"🔹 Accuracy:  {acc:.4f}\")\n",
    "print(f\"🔹 Precision: {prec:.4f}\")\n",
    "print(f\"🔹 Recall:    {rec:.4f}\")\n",
    "print(f\"🔹 F1 Score:  {f1:.4f}\")\n",
    "\n",
    "# Compute Confusion Matrix\n",
    "cm = confusion_matrix(y_test, y_test_pred)\n",
    "\n",
    "# Save Confusion Matrix\n",
    "plt.figure(figsize=(6, 5))\n",
    "sns.heatmap(cm, annot=True, fmt='d', cmap='coolwarm', linewidths=1.5, square=True, \n",
    "            cbar=True, xticklabels=[\"Normal\", \"Fraud\"], yticklabels=[\"Normal\", \"Fraud\"])\n",
    "\n",
    "plt.xlabel(\"Predicted Label\", fontsize=12, fontweight='bold', labelpad=10)\n",
    "plt.ylabel(\"True Label\", fontsize=12, fontweight='bold', labelpad=10)\n",
    "plt.title(\"Confusion Matrix - Fraud Detection\", fontsize=14, fontweight='bold', pad=12)\n",
    "\n",
    "\n",
    "plt.savefig(\"/Users/adityaiyer/Desktop/Credit-Card-Fraud-Detection/outputs/confusion_matrix.png\", dpi=300, bbox_inches='tight')\n",
    "\n",
    "\n",
    "plt.show()\n",
    "print(\"✅ Confusion Matrix saved successfully!\")\n"
   ]
  },
  {
   "cell_type": "code",
   "execution_count": 11,
   "id": "fb3572e2-28af-47f6-bc22-d4508eae6ce2",
   "metadata": {},
   "outputs": [
    {
     "name": "stdout",
     "output_type": "stream",
     "text": [
      "✅ Model evaluation metrics saved at: /Users/adityaiyer/Desktop/Credit-Card-Fraud-Detection/outputs/evaluation_metrics.txt\n"
     ]
    }
   ],
   "source": [
    "# Store Model Evaluation Metrics\n",
    "metrics = {\n",
    "    \"Accuracy\": acc,\n",
    "    \"Precision\": prec,\n",
    "    \"Recall\": rec,\n",
    "    \"F1 Score\": f1\n",
    "}\n",
    "\n",
    "\n",
    "metrics_path = \"/Users/adityaiyer/Desktop/Credit-Card-Fraud-Detection/outputs/evaluation_metrics.txt\"\n",
    "with open(metrics_path, \"w\") as f:\n",
    "    for key, value in metrics.items():\n",
    "        f.write(f\"{key}: {value:.4f}\\n\")\n",
    "\n",
    "print(f\"✅ Model evaluation metrics saved at: {metrics_path}\")\n"
   ]
  },
  {
   "cell_type": "markdown",
   "id": "e44aa814-b0bd-436d-9bf4-26f928bd0bec",
   "metadata": {},
   "source": [
    "## **4. Extract & Analyze Fraudulent Transactions**\n",
    "After evaluating the model, we extract **transactions flagged as fraud** to analyze their characteristics.\n",
    "\n",
    "### ✅ **Steps:**\n",
    "1. Convert `X_test` (if it's a NumPy array) into a **DataFrame**.\n",
    "2. Extract **fraudulent transactions** using the model’s predictions.\n",
    "3. Display a **sample of detected fraud cases** for manual inspection.\n",
    "4. Save fraud cases to a CSV file for further analysis.\n",
    "\n",
    "This helps in understanding what patterns the model considers fraudulent and refining the detection system.\n"
   ]
  },
  {
   "cell_type": "code",
   "execution_count": 16,
   "id": "d8596674-9801-43e9-8670-b488ad12f243",
   "metadata": {
    "scrolled": true
   },
   "outputs": [
    {
     "name": "stdout",
     "output_type": "stream",
     "text": [
      "\n",
      "🔍 Fraudulent Transactions Detected by the Model:\n",
      "\n",
      "         V1         V2        V3         V4        V5         V6        V7  \\\n",
      "0 -1.128572  -7.731412  4.496687 -10.772688  6.498647  -9.681829 -2.209807   \n",
      "1  1.074242   0.463557  1.736440  -3.719073  4.247607   0.155738 -1.790334   \n",
      "2  0.109825 -10.029916  8.962974 -15.017672  8.561871 -10.711361  0.628847   \n",
      "3 -1.134173  -2.713928  2.526858  -5.619427  5.897613  -4.111121 -2.273396   \n",
      "4 -1.087383  -1.718806  1.478931  -2.470834  0.196116  -1.657888 -1.464989   \n",
      "\n",
      "          V8        V9       V10  ...       V21        V22       V23  \\\n",
      "0 -12.853497  8.385738 -7.200934  ... -2.202172   4.259077  0.468727   \n",
      "1  -1.446658  0.283518 -2.569872  ...  0.318113   0.550153 -0.547934   \n",
      "2 -22.272181 -9.916865 -8.166069  ...  5.001409 -11.139194  4.562954   \n",
      "3  -8.737723  2.834497 -5.620241  ...  1.501860   3.154640  1.185810   \n",
      "4  -2.408722 -1.391549  0.167467  ... -0.045262   2.800747 -0.706381   \n",
      "\n",
      "        V24       V25       V26       V27        V28    Amount      Time  \n",
      "0 -1.831401  1.315214 -0.371669  0.302032  -6.004664 -3.600190  0.074141  \n",
      "1 -0.127868 -0.277073  0.893277  0.435965   1.583600  1.089505 -0.347366  \n",
      "2  4.114770  0.323645 -2.289915  0.078884 -10.078097 -1.952688 -0.342966  \n",
      "3 -0.978630  0.866595 -1.365159  0.672782   5.481991  1.504275  0.000856  \n",
      "4 -0.396089  0.210543  0.201178 -2.192043  -2.931358 -3.062209 -0.000064  \n",
      "\n",
      "[5 rows x 30 columns]\n",
      "✅ Fraud cases saved to /Users/adityaiyer/Desktop/Credit-Card-Fraud-Detection/outputs/detected_fraud_cases.csv\n"
     ]
    }
   ],
   "source": [
    "import pandas as pd\n",
    "import numpy as np\n",
    "\n",
    "#Convert NumPy array to DataFrame (Ensure Column Names are Correct)\n",
    "columns = [f'V{i}' for i in range(1, 29)] + [\"Amount\", \"Time\"]  \n",
    "X_test_df = pd.DataFrame(X_test, columns=columns)\n",
    "\n",
    "# Extract transactions flagged as fraud\n",
    "fraud_indices = np.where(y_test_pred == 1)[0]  \n",
    "fraud_cases = X_test_df.iloc[fraud_indices].copy()  \n",
    "\n",
    "# Reset Index for Clean Output\n",
    "fraud_cases.reset_index(drop=True, inplace=True)\n",
    "\n",
    "# Display Sample Fraud Cases\n",
    "print(\"\\n🔍 Fraudulent Transactions Detected by the Model:\\n\")\n",
    "print(fraud_cases.head())\n",
    "\n",
    "# Save Fraudulent Transactions \n",
    "fraud_cases.to_csv(\"/Users/adityaiyer/Desktop/Credit-Card-Fraud-Detection/outputs/detected_fraud_cases.csv\", index=False)\n",
    "print(\"✅ Fraud cases saved to /Users/adityaiyer/Desktop/Credit-Card-Fraud-Detection/outputs/detected_fraud_cases.csv\")\n"
   ]
  },
  {
   "cell_type": "code",
   "execution_count": null,
   "id": "22d54df7-94d2-444b-a269-0c2f3405a684",
   "metadata": {},
   "outputs": [],
   "source": []
  }
 ],
 "metadata": {
  "kernelspec": {
   "display_name": "Python 3 (ipykernel)",
   "language": "python",
   "name": "python3"
  },
  "language_info": {
   "codemirror_mode": {
    "name": "ipython",
    "version": 3
   },
   "file_extension": ".py",
   "mimetype": "text/x-python",
   "name": "python",
   "nbconvert_exporter": "python",
   "pygments_lexer": "ipython3",
   "version": "3.11.7"
  }
 },
 "nbformat": 4,
 "nbformat_minor": 5
}
