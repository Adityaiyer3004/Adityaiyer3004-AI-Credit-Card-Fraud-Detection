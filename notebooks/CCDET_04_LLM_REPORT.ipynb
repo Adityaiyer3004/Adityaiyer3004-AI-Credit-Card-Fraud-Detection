{
 "cells": [
  {
   "cell_type": "markdown",
   "id": "60553556-45b0-4d35-bc84-929c33422e4b",
   "metadata": {},
   "source": [
    "# 📌 LLM-Based Fraud Report Generator\n",
    "\n",
    "## 📝 Overview\n",
    "This notebook leverages **OpenAI’s GPT-4** to generate structured fraud analysis reports for flagged credit card transactions. The model provides:\n",
    "- ✅ **Fraud likelihood assessment** (🚨 Critical / ⚠️ High / 🔎 Moderate)\n",
    "- ✅ **Key anomalies detected** in transaction patterns\n",
    "- ✅ **Recommended actions** for fraud analysts to mitigate risk\n",
    "\n",
    "Additionally, the project includes **Gradio integration** for **interactive report viewing**.\n",
    "\n",
    "---\n",
    "\n",
    "# 🔄 Workflow Overview\n",
    "This fraud detection workflow follows a structured **6-step pipeline**:\n",
    "\n",
    "### **1️⃣ Load and Preprocess Data**\n",
    "- Load **credit card transaction data** (CSV file)\n",
    "- Ensure **data validity and structure**\n",
    "- Convert transactions into **dictionary format** for LLM processing\n",
    "\n",
    "### **2️⃣ Initialize GPT-4 API**\n",
    "- Set up **OpenAI API key securely**\n",
    "- Configure **model parameters** (temperature, token limits)\n",
    "- Define fraud risk assessment criteria\n",
    "\n",
    "### **3️⃣ Generate Fraud Report using LLM**\n",
    "- Pass transaction details to **GPT-4**\n",
    "- Receive **AI-generated risk analysis**\n",
    "- Categorize **fraud risk level** based on confidence scores\n",
    "\n",
    "### **4️⃣ Save Reports for Future Reference**\n",
    "- Store **fraud reports in a text file**  \n",
    "- Ensure **auditability** for regulatory compliance\n",
    "\n",
    "### **5️⃣ Create an Interactive UI (Gradio)**\n",
    "- Enable **real-time fraud report viewing**\n",
    "- Let users **query past reports** interactively\n",
    "\n",
    "### **6️⃣ Deploy & Optimize**\n",
    "- Deploy on **Hugging Face Spaces** or local web server\n",
    "- Fine-tune **fraud detection models** for better accuracy\n",
    "\n",
    "---\n",
    "\n",
    "\n"
   ]
  },
  {
   "cell_type": "markdown",
   "id": "5ca6d3f3-9f01-46a2-a9fc-277c4e1e0fda",
   "metadata": {},
   "source": [
    "## **Step 1: Install & Import Dependencies** \n",
    "**This section installs the required libraries and imports necessary dependencies for fraud analysis and report generation.**\n"
   ]
  },
  {
   "cell_type": "code",
   "execution_count": 2,
   "id": "cba39b1b-2faa-4033-bfd9-5bcdcfbd7cbc",
   "metadata": {},
   "outputs": [
    {
     "name": "stdout",
     "output_type": "stream",
     "text": [
      "Requirement already satisfied: openai in /Users/adityaiyer/anaconda3/lib/python3.11/site-packages (1.64.0)\n",
      "Requirement already satisfied: pandas in /Users/adityaiyer/anaconda3/lib/python3.11/site-packages (2.1.4)\n",
      "Requirement already satisfied: numpy in /Users/adityaiyer/anaconda3/lib/python3.11/site-packages (1.26.4)\n",
      "Requirement already satisfied: gradio in /Users/adityaiyer/anaconda3/lib/python3.11/site-packages (5.18.0)\n",
      "Requirement already satisfied: anyio<5,>=3.5.0 in /Users/adityaiyer/anaconda3/lib/python3.11/site-packages (from openai) (4.2.0)\n",
      "Requirement already satisfied: distro<2,>=1.7.0 in /Users/adityaiyer/anaconda3/lib/python3.11/site-packages (from openai) (1.8.0)\n",
      "Requirement already satisfied: httpx<1,>=0.23.0 in /Users/adityaiyer/anaconda3/lib/python3.11/site-packages (from openai) (0.28.1)\n",
      "Requirement already satisfied: jiter<1,>=0.4.0 in /Users/adityaiyer/anaconda3/lib/python3.11/site-packages (from openai) (0.8.2)\n",
      "Requirement already satisfied: pydantic<3,>=1.9.0 in /Users/adityaiyer/anaconda3/lib/python3.11/site-packages (from openai) (2.10.6)\n",
      "Requirement already satisfied: sniffio in /Users/adityaiyer/anaconda3/lib/python3.11/site-packages (from openai) (1.3.0)\n",
      "Requirement already satisfied: tqdm>4 in /Users/adityaiyer/anaconda3/lib/python3.11/site-packages (from openai) (4.67.1)\n",
      "Requirement already satisfied: typing-extensions<5,>=4.11 in /Users/adityaiyer/anaconda3/lib/python3.11/site-packages (from openai) (4.12.2)\n",
      "Requirement already satisfied: python-dateutil>=2.8.2 in /Users/adityaiyer/anaconda3/lib/python3.11/site-packages (from pandas) (2.8.2)\n",
      "Requirement already satisfied: pytz>=2020.1 in /Users/adityaiyer/anaconda3/lib/python3.11/site-packages (from pandas) (2023.3.post1)\n",
      "Requirement already satisfied: tzdata>=2022.1 in /Users/adityaiyer/anaconda3/lib/python3.11/site-packages (from pandas) (2023.3)\n",
      "Requirement already satisfied: aiofiles<24.0,>=22.0 in /Users/adityaiyer/anaconda3/lib/python3.11/site-packages (from gradio) (23.2.1)\n",
      "Requirement already satisfied: fastapi<1.0,>=0.115.2 in /Users/adityaiyer/anaconda3/lib/python3.11/site-packages (from gradio) (0.115.8)\n",
      "Requirement already satisfied: ffmpy in /Users/adityaiyer/anaconda3/lib/python3.11/site-packages (from gradio) (0.5.0)\n",
      "Requirement already satisfied: gradio-client==1.7.2 in /Users/adityaiyer/anaconda3/lib/python3.11/site-packages (from gradio) (1.7.2)\n",
      "Requirement already satisfied: huggingface-hub>=0.28.1 in /Users/adityaiyer/anaconda3/lib/python3.11/site-packages (from gradio) (0.29.1)\n",
      "Requirement already satisfied: jinja2<4.0 in /Users/adityaiyer/anaconda3/lib/python3.11/site-packages (from gradio) (3.1.3)\n",
      "Requirement already satisfied: markupsafe~=2.0 in /Users/adityaiyer/anaconda3/lib/python3.11/site-packages (from gradio) (2.1.3)\n",
      "Requirement already satisfied: orjson~=3.0 in /Users/adityaiyer/anaconda3/lib/python3.11/site-packages (from gradio) (3.10.15)\n",
      "Requirement already satisfied: packaging in /Users/adityaiyer/anaconda3/lib/python3.11/site-packages (from gradio) (23.1)\n",
      "Requirement already satisfied: pillow<12.0,>=8.0 in /Users/adityaiyer/anaconda3/lib/python3.11/site-packages (from gradio) (10.2.0)\n",
      "Requirement already satisfied: pydub in /Users/adityaiyer/anaconda3/lib/python3.11/site-packages (from gradio) (0.25.1)\n",
      "Requirement already satisfied: python-multipart>=0.0.18 in /Users/adityaiyer/anaconda3/lib/python3.11/site-packages (from gradio) (0.0.20)\n",
      "Requirement already satisfied: pyyaml<7.0,>=5.0 in /Users/adityaiyer/anaconda3/lib/python3.11/site-packages (from gradio) (6.0.1)\n",
      "Requirement already satisfied: ruff>=0.9.3 in /Users/adityaiyer/anaconda3/lib/python3.11/site-packages (from gradio) (0.9.7)\n",
      "Requirement already satisfied: safehttpx<0.2.0,>=0.1.6 in /Users/adityaiyer/anaconda3/lib/python3.11/site-packages (from gradio) (0.1.6)\n",
      "Requirement already satisfied: semantic-version~=2.0 in /Users/adityaiyer/anaconda3/lib/python3.11/site-packages (from gradio) (2.10.0)\n",
      "Requirement already satisfied: starlette<1.0,>=0.40.0 in /Users/adityaiyer/anaconda3/lib/python3.11/site-packages (from gradio) (0.45.3)\n",
      "Requirement already satisfied: tomlkit<0.14.0,>=0.12.0 in /Users/adityaiyer/anaconda3/lib/python3.11/site-packages (from gradio) (0.13.2)\n",
      "Requirement already satisfied: typer<1.0,>=0.12 in /Users/adityaiyer/anaconda3/lib/python3.11/site-packages (from gradio) (0.15.1)\n",
      "Requirement already satisfied: uvicorn>=0.14.0 in /Users/adityaiyer/anaconda3/lib/python3.11/site-packages (from gradio) (0.34.0)\n",
      "Requirement already satisfied: fsspec in /Users/adityaiyer/anaconda3/lib/python3.11/site-packages (from gradio-client==1.7.2->gradio) (2023.10.0)\n",
      "Requirement already satisfied: websockets<16.0,>=10.0 in /Users/adityaiyer/anaconda3/lib/python3.11/site-packages (from gradio-client==1.7.2->gradio) (15.0)\n",
      "Requirement already satisfied: idna>=2.8 in /Users/adityaiyer/anaconda3/lib/python3.11/site-packages (from anyio<5,>=3.5.0->openai) (3.4)\n",
      "Requirement already satisfied: certifi in /Users/adityaiyer/anaconda3/lib/python3.11/site-packages (from httpx<1,>=0.23.0->openai) (2025.1.31)\n",
      "Requirement already satisfied: httpcore==1.* in /Users/adityaiyer/anaconda3/lib/python3.11/site-packages (from httpx<1,>=0.23.0->openai) (1.0.7)\n",
      "Requirement already satisfied: h11<0.15,>=0.13 in /Users/adityaiyer/anaconda3/lib/python3.11/site-packages (from httpcore==1.*->httpx<1,>=0.23.0->openai) (0.14.0)\n",
      "Requirement already satisfied: filelock in /Users/adityaiyer/anaconda3/lib/python3.11/site-packages (from huggingface-hub>=0.28.1->gradio) (3.13.1)\n",
      "Requirement already satisfied: requests in /Users/adityaiyer/anaconda3/lib/python3.11/site-packages (from huggingface-hub>=0.28.1->gradio) (2.31.0)\n",
      "Requirement already satisfied: annotated-types>=0.6.0 in /Users/adityaiyer/anaconda3/lib/python3.11/site-packages (from pydantic<3,>=1.9.0->openai) (0.7.0)\n",
      "Requirement already satisfied: pydantic-core==2.27.2 in /Users/adityaiyer/anaconda3/lib/python3.11/site-packages (from pydantic<3,>=1.9.0->openai) (2.27.2)\n",
      "Requirement already satisfied: six>=1.5 in /Users/adityaiyer/anaconda3/lib/python3.11/site-packages (from python-dateutil>=2.8.2->pandas) (1.16.0)\n",
      "Requirement already satisfied: click>=8.0.0 in /Users/adityaiyer/anaconda3/lib/python3.11/site-packages (from typer<1.0,>=0.12->gradio) (8.1.7)\n",
      "Requirement already satisfied: shellingham>=1.3.0 in /Users/adityaiyer/anaconda3/lib/python3.11/site-packages (from typer<1.0,>=0.12->gradio) (1.5.4)\n",
      "Requirement already satisfied: rich>=10.11.0 in /Users/adityaiyer/anaconda3/lib/python3.11/site-packages (from typer<1.0,>=0.12->gradio) (13.3.5)\n",
      "Requirement already satisfied: markdown-it-py<3.0.0,>=2.2.0 in /Users/adityaiyer/anaconda3/lib/python3.11/site-packages (from rich>=10.11.0->typer<1.0,>=0.12->gradio) (2.2.0)\n",
      "Requirement already satisfied: pygments<3.0.0,>=2.13.0 in /Users/adityaiyer/anaconda3/lib/python3.11/site-packages (from rich>=10.11.0->typer<1.0,>=0.12->gradio) (2.15.1)\n",
      "Requirement already satisfied: charset-normalizer<4,>=2 in /Users/adityaiyer/anaconda3/lib/python3.11/site-packages (from requests->huggingface-hub>=0.28.1->gradio) (2.0.4)\n",
      "Requirement already satisfied: urllib3<3,>=1.21.1 in /Users/adityaiyer/anaconda3/lib/python3.11/site-packages (from requests->huggingface-hub>=0.28.1->gradio) (2.0.7)\n",
      "Requirement already satisfied: mdurl~=0.1 in /Users/adityaiyer/anaconda3/lib/python3.11/site-packages (from markdown-it-py<3.0.0,>=2.2.0->rich>=10.11.0->typer<1.0,>=0.12->gradio) (0.1.0)\n"
     ]
    }
   ],
   "source": [
    "!pip install openai pandas numpy gradio\n",
    "\n",
    "import openai\n",
    "import numpy as np\n",
    "import pandas as pd\n",
    "import os\n",
    "import gradio as gr\n"
   ]
  },
  {
   "cell_type": "markdown",
   "id": "c2c2b3f4-9d1d-4629-91d9-cd0ca11db2ed",
   "metadata": {},
   "source": [
    "## **Step 2: Load Fraudulent Transactions**   \n",
    "We load the transactions that were flagged as fraudulent from the model evaluation step.\n"
   ]
  },
  {
   "cell_type": "code",
   "execution_count": 3,
   "id": "7b0f5063-6a27-412e-abdb-141fd34f76b4",
   "metadata": {},
   "outputs": [
    {
     "name": "stdout",
     "output_type": "stream",
     "text": [
      "Fraudulent transactions successfully loaded from: /Users/adityaiyer/Desktop/Credit-Card-Fraud-Detection/outputs/detected_fraud_cases.csv\n",
      "         V1         V2        V3         V4        V5         V6        V7  \\\n",
      "0 -1.128572  -7.731412  4.496687 -10.772688  6.498647  -9.681829 -2.209807   \n",
      "1  1.074242   0.463557  1.736440  -3.719073  4.247607   0.155738 -1.790334   \n",
      "2  0.109825 -10.029916  8.962974 -15.017672  8.561871 -10.711361  0.628847   \n",
      "3 -1.134173  -2.713928  2.526858  -5.619427  5.897613  -4.111121 -2.273396   \n",
      "4 -1.087383  -1.718806  1.478931  -2.470834  0.196116  -1.657888 -1.464989   \n",
      "\n",
      "          V8        V9       V10  ...       V21        V22       V23  \\\n",
      "0 -12.853497  8.385738 -7.200934  ... -2.202172   4.259077  0.468727   \n",
      "1  -1.446658  0.283518 -2.569872  ...  0.318113   0.550153 -0.547934   \n",
      "2 -22.272181 -9.916865 -8.166069  ...  5.001409 -11.139194  4.562954   \n",
      "3  -8.737723  2.834497 -5.620241  ...  1.501860   3.154640  1.185810   \n",
      "4  -2.408722 -1.391549  0.167467  ... -0.045262   2.800747 -0.706381   \n",
      "\n",
      "        V24       V25       V26       V27        V28    Amount      Time  \n",
      "0 -1.831401  1.315214 -0.371669  0.302032  -6.004664 -3.600190  0.074141  \n",
      "1 -0.127868 -0.277073  0.893277  0.435965   1.583600  1.089505 -0.347366  \n",
      "2  4.114770  0.323645 -2.289915  0.078884 -10.078097 -1.952688 -0.342966  \n",
      "3 -0.978630  0.866595 -1.365159  0.672782   5.481991  1.504275  0.000856  \n",
      "4 -0.396089  0.210543  0.201178 -2.192043  -2.931358 -3.062209 -0.000064  \n",
      "\n",
      "[5 rows x 30 columns]\n"
     ]
    }
   ],
   "source": [
    "import pandas as pd\n",
    "\n",
    "# Define the path to the CSV file\n",
    "fraud_cases_path = \"/Users/adityaiyer/Desktop/Credit-Card-Fraud-Detection/outputs/detected_fraud_cases.csv\"  # Ensure correct path\n",
    "\n",
    "# Load fraud cases from CSV\n",
    "fraud_cases = pd.read_csv(fraud_cases_path)\n",
    "\n",
    "print(f\"Fraudulent transactions successfully loaded from: {fraud_cases_path}\")\n",
    "print(fraud_cases.head())  # Display first few rows\n"
   ]
  },
  {
   "cell_type": "markdown",
   "id": "9267bf8d-241f-4223-8333-47f2aaec2c93",
   "metadata": {},
   "source": [
    "## **Step 3: Configure API Access**   \n",
    "This step establishes a **secure connection** to OpenAI’s API, enabling GPT-4 to generate fraud reports. API credentials must be **securely managed** to prevent **unauthorized access** and potential \n"
   ]
  },
  {
   "cell_type": "code",
   "execution_count": 4,
   "id": "5eb84cfa-a2db-4771-a55d-90ddfa781a80",
   "metadata": {},
   "outputs": [],
   "source": [
    "# 2. Set your OpenAI API Key\n",
    "client = openai.OpenAI(api_key=\"Enter your API Key here\")\n",
    "\n",
    "\n",
    "\n"
   ]
  },
  {
   "cell_type": "markdown",
   "id": "4b3b1128-114d-4c63-889e-da42fe92c9f0",
   "metadata": {},
   "source": [
    "## **Step 4: Generate Fraud Reports using GPT-4**   \n",
    "We send flagged transactions to **GPT-4**, which generates **detailed structured fraud reports** for each case.  \n",
    "These reports provide:\n",
    "- **Risk assessment** (🚨 Critical / ⚠️ High / 🔎 Moderate)\n",
    "- **Key anomalies detected** in transaction behavior\n",
    "- **Recommended actions** for fraud analysts to mitigate risk  \n",
    "\n",
    "Each report is stored and can be accessed later for further investigation.\n"
   ]
  },
  {
   "cell_type": "code",
   "execution_count": 20,
   "id": "06f7b503-805e-4e6e-a06f-869d0bfa7a28",
   "metadata": {},
   "outputs": [],
   "source": [
    "def generate_fraud_report(transaction_details, model_confidence, action_taken):\n",
    "    \"\"\"\n",
    "    Uses OpenAI GPT-4 to generate a structured fraud report with improved readability.\n",
    "    \"\"\"\n",
    "    # Add Fraud Probability Interpretation\n",
    "    fraud_risk = (\n",
    "        \"Critical Risk 🚨\" if model_confidence >= 96 else \n",
    "        \"High Risk ⚠️\" if model_confidence >= 90 else \n",
    "        \"Moderate Risk 🔎\"\n",
    "    )\n",
    "    prompt = f\"\"\"\n",
    "    You are a financial fraud analyst. A credit card fraud detection system has flagged the following transaction as fraudulent.\n",
    "\n",
    "    ---\n",
    "    **🔍 Transaction Details:**  \n",
    "    {transaction_details}  \n",
    "\n",
    "    **📊 Model Confidence:** {model_confidence}%  \n",
    "    **🚨 Action Taken:** {action_taken}  \n",
    "\n",
    "    ---\n",
    "    ### **1️⃣ Why This Transaction Was Flagged**\n",
    "    - Identify unusual spending patterns based on PCA-transformed variables (V1-V28).\n",
    "    - Explain what these variables might represent in real-world scenarios (e.g., sudden location change, high spending in short periods, unusual merchant category).\n",
    "    - Compare the flagged transaction with past fraudulent behaviors in the dataset.\n",
    "\n",
    "    ---\n",
    "    ### **2️⃣ Key Insights from the Analysis**\n",
    "    - Clearly explain what anomalies were found.\n",
    "    - If possible, relate the PCA-transformed values to real-world factors (e.g., transaction location, spending frequency).\n",
    "    - Provide a simple risk assessment: *High Risk / Moderate Risk / Low Risk*.\n",
    "\n",
    "    ---\n",
    "    ### **3️⃣ Recommended Actions**\n",
    "    - **Urgent:** Immediate steps to verify or prevent fraud (e.g., contacting the customer, temporarily freezing the account).\n",
    "    - **Investigation:** How fraud analysts can further verify the case.\n",
    "    - **Prevention:** Suggested AI system improvements to prevent similar fraud cases.\n",
    "\n",
    "    ---\n",
    "    **⚠️ Important:** This is an AI-generated fraud report. It should be reviewed and confirmed by human fraud analysts before taking final action.\n",
    "    \"\"\"\n",
    "\n",
    "    response = client.chat.completions.create(\n",
    "        model=\"gpt-4\",\n",
    "        messages=[\n",
    "            {\"role\": \"system\", \"content\": \"You are a financial fraud analyst.\"},\n",
    "            {\"role\": \"user\", \"content\": prompt}\n",
    "        ]\n",
    "    )\n",
    "\n",
    "    return response.choices[0].message.content\n"
   ]
  },
  {
   "cell_type": "markdown",
   "id": "1223b99a-18b3-482b-96f6-1ddacec2e879",
   "metadata": {},
   "source": [
    "## **Step 5: Generate Reports for Each Fraud Case**   \n",
    "We iterate through the **flagged fraud transactions**, passing them to **GPT-4** for analysis.  \n",
    "For each transaction, the model generates a **structured fraud investigation report** detailing:\n",
    "- **Unusual transaction patterns**\n",
    "- **Model confidence score & fraud risk level**\n",
    "- **Recommended next steps for fraud analysts**  \n",
    "\n",
    "The generated reports are then **stored for future reference and auditing**.\n"
   ]
  },
  {
   "cell_type": "code",
   "execution_count": 21,
   "id": "b21ebde9-e2c3-49ef-917d-fb796522abff",
   "metadata": {},
   "outputs": [
    {
     "name": "stdout",
     "output_type": "stream",
     "text": [
      "\n",
      "==================================================\n",
      "📄 **Fraud Report 1:**\n",
      "==================================================\n",
      "### **1️⃣ Why This Transaction Was Flagged**\n",
      "This transaction was flagged due to several significant anomalies compared to normal spending behaviors based on the PCA-transformed variables. These variables, which have been anonymized (labeled as V1-V28) for privacy reasons, can be associated with real-world transaction behaviors such as transaction location, spending frequency, and merchant category.\n",
      "\n",
      "- In this case, we observe unusually high/low values for variables like V2, V4, V5, V6, V8, V10, V11, V13, V15, V17, V18, V19, and V28.\n",
      "- For instance, the highly negative values of V4, V6, V8 and V10 might indicate highly unusual merchant categories or spending patterns that are significantly different from the norm.\n",
      "- Similarly, high values for V5, and V9 suggest sudden substantial charges that are atypical for this account which could suggest a suspicious activity or a possible case of fraud.\n",
      "\n",
      "Furthermore, comparing these values with past fraudulent behaviors in the dataset, a similar pattern of spending emerges - frequently in terms of large purchases, sudden location changes and unusual merchant categories. This consistency with past identified fraud cases increases the likelihood of this being a fraudulent transaction.\n",
      "\n",
      "### **2️⃣ Key Insights from the Analysis**\n",
      "The anomalies found related to several different aspects of the transaction:\n",
      "\n",
      "- V5, V9 and V22 are significantly higher than normal behavior, suggesting frequent or large-scale transactions.\n",
      "- V4, V6, V8, V10, V15, V17, V18, V19, and V28, on the other hand, show negative and extreme values, implying a sudden change in transaction behavior, possibly in terms of location or merchant categories.\n",
      "\n",
      "This demonstrably erratic transaction behavior presents a **High Risk** for fraudulent activity, given the significant departure from established patterns.\n",
      "\n",
      "### **3️⃣ Recommended Actions**\n",
      "\n",
      "- **Urgent:** Immediately contact the customer to verify the legitimacy of the transaction in question. Simultaneously, maintain the suspension of the account until the issue is resolved.\n",
      "- **Investigation:** Further investigate the transactions associated with this account, especially focusing on the merchant categories, frequencies, and transaction amounts with respect to the PCA-translated variables. Engage with experts who have deeper knowledge of how V1-V28 are computed.\n",
      "- **Prevention:** Use this case as a basis for refining the AI detection system's variables and thresholds. In particular, values of V4, V6, V8, V10, V15, V17, V18, V19, and V28 should be scrutinized for better flagging efficiency. Conduct more detailed and personalized customer profiling to improve the accuracy of normal transaction behavior models.\n",
      "  \n",
      "Please note that while the AI system can identify potential fraudulent behaviors, final confirmation requires human review and customer confirmation.\n",
      "\n",
      "==================================================\n",
      "\n",
      "==================================================\n",
      "📄 **Fraud Report 2:**\n",
      "==================================================\n",
      "### **1️⃣ Why This Transaction Was Flagged**\n",
      "\n",
      "The transaction was flagged due to significant inconsistencies in the V1-V28 variables, which are results of a Principal Component Analysis (PCA). Each of these variables represents different anonymous features, which could indicate elements like location of the transaction, merchant category, and the spending amount compared to the user's historical spending patterns.\n",
      "\n",
      "Some significant values include:\n",
      "\n",
      "* `V4` and `V11` have highly negative values, representing a significant deviation from the user's normal behaviour. These might indicate a high-value transaction or a purchase in an unusual merchant category.\n",
      "* `V13` and `V15` have high negative values as well, which might represent a sudden location change or a sudden change in the user's spending frequency.\n",
      "* `V5`: Its value is high and positive; this could indicate that the transaction is abnormal according to the history of this user’s habitual activity.\n",
      "* `V12`: Indicates a positive abnormality too, which is also a cause for concern.\n",
      "\n",
      "These values have been flagged due to their deviation from the norm, following similar patterns in past fraudulent behaviours.\n",
      "\n",
      "---\n",
      "### **2️⃣ Key Insights from the Analysis**\n",
      "\n",
      "The anomalies found strongly suggest fraudulent activity. Assuming that the PCA-transformed values represent real-world factors such as transaction location (sudden change matching with high negative values of `V13` and `V15`), spending frequency (sudden increase in spending habits indicated by `V4` and `V11`) and unusual merchant activity (indicated by `V5` and `V12`), it can be inferred that there is a high likelihood that this transaction is fraudulent.\n",
      "\n",
      "The risk assessment of this transaction would be categorized as *High Risk* due to these significant anomalies.\n",
      "\n",
      "---\n",
      "### **3️⃣ Recommended Actions**\n",
      "\n",
      "* **Urgent:** Immediately contact the customer to verify the transaction. The account should remain frozen until the transaction is verified, to prevent any potential loss.\n",
      "* **Investigation:** Analyze previous transactions of the same user and look for any patterns or correlations to this alleged fraud case. Verify customer habits and check their location at the time of the transaction.\n",
      "* **Prevention:** Improve AI fraud detection system performance by continually training it with new validated fraud case datasets. Consider enhancing the model with additional features, such as user behaviour patterns, to better predict and prevent future fraud cases.\n",
      "\n",
      "**⚠️ Important:** This AI-generated fraud report isn't definitive proof of fraudulent activity; an experienced human analyst should review this case to confirm or refute the claim.\n",
      "\n",
      "==================================================\n",
      "\n",
      "==================================================\n",
      "📄 **Fraud Report 3:**\n",
      "==================================================\n",
      "**1️⃣ Why This Transaction Was Flagged**\n",
      "\n",
      "The transaction was flagged due to several indicators that are usually associated with potential fraud. The feature 'V1-V28' represents a Principle Component Analysis (PCA) transformation of original features. These features might be some measures including the person's typical spending behavior, their location, timing or frequency of transactions, or type of purchase made. \n",
      "\n",
      "For example, the high value of 'V3', 'V5', and a low 'V2' could indicate a significant change in transaction attitude—like purchasing from high-risk merchants, or making large transactions in a short span of time. Values of 'V6', 'V8', 'V9', 'V10' 'V11', 'V17', 'V18', 'V22', and 'V28' are notably irregular, suggesting patterns commonly associated with fraudulent transactions. More specifically, these could represent instances like unusual overnight spending, international transactions, high transaction frequency, or a sharp decrease in the transaction amount compared to past behavior.\n",
      "\n",
      "**2️⃣ Key Insights from the Analysis**\n",
      "\n",
      "Unusual, extreme values in multiple PCA-transformed features, notably V2, V3, V5, V6, V8, V9, V10, V11, V17, V18, V22, and V28 suggest anomalies in transaction behavior. These could likely be reflecting unusual spending patterns, change in transaction location, or inconsistent spending frequency.\n",
      "\n",
      "The unusual negative amount further suggests this transaction is dubious. In a real-world scenario, this might possibly indicate an instance of a refund or a reverse transaction, which are sometimes used to mask fraudulent activities. \n",
      "\n",
      "Based on these insights, this transaction can be classified as *High Risk*. \n",
      "\n",
      "**3️⃣ Recommended Actions**\n",
      "\n",
      "**Urgent:** Immediately contact the customer to verify the validity of the flagged transaction. Simultaneously, keep the account suspension active until the situation is clarified.\n",
      "\n",
      "**Investigation:** Conduct a thorough investigation by tracing the origin of the transaction and comparing it with previous transaction records. Check if there is a pattern of high-risk transactions or if it's a sudden change in behavior. \n",
      "\n",
      "**Prevention:** Update the AI system to recognize and flag similar anomalous transactions in the future. Verify and increase the system's sensitivity towards sudden change in transaction behaviors. Additionally, incorporating more real-time customer notification and verification can be a valuable tool to increase security and decrease future incident rates. The flagged transaction and its findings should be incorporated into AI training to improve future detection accuracy.\n",
      "\n",
      "==================================================\n"
     ]
    }
   ],
   "source": [
    "# Generate Fraud Reports for Each Fraud Case\n",
    "fraud_reports = []\n",
    "\n",
    "for i in range(min(3, len(fraud_cases))):  # Limiting to 3 reports for testing\n",
    "    transaction_details = fraud_cases.iloc[i].to_dict()  # Convert row to dictionary\n",
    "    model_confidence = np.random.randint(85, 99)  # Simulated confidence score\n",
    "    action_taken = \"Account Suspended\"\n",
    "\n",
    "    # Generate Report using LLM\n",
    "    report = generate_fraud_report(transaction_details, model_confidence, action_taken)\n",
    "    \n",
    "    # Store Report\n",
    "    fraud_reports.append(report)\n",
    "\n",
    "# Display Generated Reports\n",
    "for idx, report in enumerate(fraud_reports, 1):\n",
    "    print(\"\\n\" + \"=\"*50)  # 🔹 Add a separator for clarity\n",
    "    print(f\"📄 **Fraud Report {idx}:**\")\n",
    "    print(\"=\"*50)\n",
    "    print(report)\n",
    "    print(\"\\n\" + \"=\"*50)  # 🔹 End of report separator\n"
   ]
  },
  {
   "cell_type": "markdown",
   "id": "7406c25b-c828-4879-984c-4c69c8c41cc6",
   "metadata": {},
   "source": [
    "## **Step 6: Save Reports for Future Reference**  \n",
    "We store fraud reports in a text file for **later review, auditing, or reporting**.  \n",
    "This ensures that flagged transactions can be analyzed later for **regulatory compliance** and **fraud prevention improvements**.\n"
   ]
  },
  {
   "cell_type": "code",
   "execution_count": 22,
   "id": "b713ab48-facc-4a8a-bd17-ed932c954d79",
   "metadata": {},
   "outputs": [
    {
     "name": "stdout",
     "output_type": "stream",
     "text": [
      "\n",
      " All Fraud Reports Successfully Saved to /Users/adityaiyer/Desktop/Credit-Card-Fraud-Detection/outputs/fraud_reports.txt\n"
     ]
    }
   ],
   "source": [
    "# Save Fraud Reports to a Text File\n",
    "output_path = \"/Users/adityaiyer/Desktop/Credit-Card-Fraud-Detection/outputs/fraud_reports.txt\"\n",
    "\n",
    "with open(output_path, \"w\") as f:\n",
    "    for idx, report in enumerate(fraud_reports, 1):\n",
    "        f.write(f\"\\n📄 Fraud Report {idx}:\\n{report}\\n\")\n",
    "\n",
    "print(f\"\\n All Fraud Reports Successfully Saved to {output_path}\")\n"
   ]
  },
  {
   "cell_type": "markdown",
   "id": "12092754-559f-4a39-8006-a7d78966c61d",
   "metadata": {},
   "source": [
    "### **Step 7: Interactive UI with Gradio**  \n",
    "We build a **Gradio-based interactive tool** that allows users to **query fraud reports**.  \n",
    "This enables fraud analysts or stakeholders to **view AI-generated reports** for specific transactions in real time.\n"
   ]
  },
  {
   "cell_type": "code",
   "execution_count": 23,
   "id": "443d80ac-e89f-47c3-b0f9-97cee03e8adf",
   "metadata": {},
   "outputs": [
    {
     "name": "stdout",
     "output_type": "stream",
     "text": [
      "* Running on local URL:  http://127.0.0.1:7861\n",
      "* Running on public URL: https://ac8ef78f5e823ef165.gradio.live\n",
      "\n",
      "This share link expires in 72 hours. For free permanent hosting and GPU upgrades, run `gradio deploy` from the terminal in the working directory to deploy to Hugging Face Spaces (https://huggingface.co/spaces)\n"
     ]
    },
    {
     "data": {
      "text/html": [
       "<div><iframe src=\"https://ac8ef78f5e823ef165.gradio.live\" width=\"100%\" height=\"500\" allow=\"autoplay; camera; microphone; clipboard-read; clipboard-write;\" frameborder=\"0\" allowfullscreen></iframe></div>"
      ],
      "text/plain": [
       "<IPython.core.display.HTML object>"
      ]
     },
     "metadata": {},
     "output_type": "display_data"
    },
    {
     "data": {
      "text/plain": []
     },
     "execution_count": 23,
     "metadata": {},
     "output_type": "execute_result"
    }
   ],
   "source": [
    "#  Define a function to display fraud reports interactively\n",
    "def display_fraud_report(transaction_index):\n",
    "    if transaction_index < 1 or transaction_index > len(fraud_reports):\n",
    "        return \"❌ Invalid transaction number. Please enter a number between 1 and \" + str(len(fraud_reports))\n",
    "    return fraud_reports[transaction_index - 1]  # Adjusting for 0-based index\n",
    "\n",
    "#  Create a Gradio Interface\n",
    "interface = gr.Interface(\n",
    "    fn=display_fraud_report,\n",
    "    inputs=gr.Number(label=\"Enter Transaction Number (1 to {})\".format(len(fraud_reports))),\n",
    "    outputs=\"text\",\n",
    "    title=\"📄 Credit Card Fraud Report Viewer\",\n",
    "    description=\"Enter a transaction number to view its fraud report.\"\n",
    ")\n",
    "\n",
    "# Launch the Web Interface\n",
    "interface.launch(share=True)"
   ]
  },
  {
   "cell_type": "code",
   "execution_count": null,
   "id": "f4f3ead7-128d-4e71-a6bc-0349597dd632",
   "metadata": {},
   "outputs": [],
   "source": []
  },
  {
   "cell_type": "code",
   "execution_count": null,
   "id": "8258ee60-72f9-4e5f-9220-3982bfaf180f",
   "metadata": {},
   "outputs": [],
   "source": []
  },
  {
   "cell_type": "code",
   "execution_count": null,
   "id": "01323c35-02e0-492b-a9c3-5aa34214cdb4",
   "metadata": {},
   "outputs": [],
   "source": []
  }
 ],
 "metadata": {
  "kernelspec": {
   "display_name": "Python 3 (ipykernel)",
   "language": "python",
   "name": "python3"
  },
  "language_info": {
   "codemirror_mode": {
    "name": "ipython",
    "version": 3
   },
   "file_extension": ".py",
   "mimetype": "text/x-python",
   "name": "python",
   "nbconvert_exporter": "python",
   "pygments_lexer": "ipython3",
   "version": "3.11.7"
  }
 },
 "nbformat": 4,
 "nbformat_minor": 5
}
